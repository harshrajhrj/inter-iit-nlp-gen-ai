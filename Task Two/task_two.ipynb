{
  "cells": [
    {
      "cell_type": "code",
      "execution_count": 1,
      "id": "523a6b16",
      "metadata": {
        "id": "523a6b16"
      },
      "outputs": [],
      "source": [
        "import numpy as np\n",
        "import pandas as pd\n",
        "import matplotlib.pyplot as plt\n",
        "import torch\n",
        "import torch.nn as nn\n",
        "import torch.optim as optim\n",
        "from torch.utils.data import Dataset, DataLoader\n",
        "from sklearn.model_selection import train_test_split\n",
        "import os\n",
        "import kagglehub"
      ]
    },
    {
      "cell_type": "code",
      "execution_count": 2,
      "id": "57f65c20",
      "metadata": {
        "colab": {
          "base_uri": "https://localhost:8080/"
        },
        "id": "57f65c20",
        "outputId": "3c5d0cc8-613c-466a-9c81-63bdf539bc14"
      },
      "outputs": [
        {
          "output_type": "stream",
          "name": "stdout",
          "text": [
            "Path to dataset files: /kaggle/input/sherlock-holmes-stories\n"
          ]
        }
      ],
      "source": [
        "# Uncomment the following line to download the dataset\n",
        "path = kagglehub.dataset_download(\"idevji1/sherlock-holmes-stories\")\n",
        "\n",
        "print(\"Path to dataset files:\", path)"
      ]
    },
    {
      "cell_type": "code",
      "execution_count": 3,
      "id": "CXNDDihLbGNy",
      "metadata": {
        "id": "CXNDDihLbGNy"
      },
      "outputs": [],
      "source": [
        "# Uncomment the following line to set dataset path\n",
        "path = '/kaggle/input/sherlock-holmes-stories/sherlock'"
      ]
    },
    {
      "cell_type": "code",
      "execution_count": null,
      "id": "70d8b667",
      "metadata": {
        "id": "70d8b667"
      },
      "outputs": [],
      "source": [
        "# path='./sherlock'"
      ]
    },
    {
      "cell_type": "code",
      "execution_count": 4,
      "id": "57306759",
      "metadata": {
        "colab": {
          "base_uri": "https://localhost:8080/"
        },
        "id": "57306759",
        "outputId": "1d28ed1e-daa7-4a29-f42b-6a39be2fdad1"
      },
      "outputs": [
        {
          "output_type": "stream",
          "name": "stdout",
          "text": [
            "\n",
            "\n",
            "\n",
            "\n",
            "                       THE ADVENTURE OF THE BLUE CARBUNCLE\n",
            "\n",
            "                               Arthur Conan Doyle\n",
            "\n",
            "\n",
            "\n",
            "     I had called upon my friend Sherlock Holmes upon the second morning\n",
            "     after Christmas, with the intention of wishing him the compliments of\n",
            "     the season. He was lounging upon the sofa in a purple dressing-gown,\n",
            "     a pipe-rack within his reach upon the right, and a pile of crumpled\n",
            "     morning papers, evidently newly studied, near at hand. Beside the\n",
            "     couch was a wooden chair, and on the angle of the back hung a very\n",
            "     seedy and disreputable hard-felt hat, much the worse for wear, and\n",
            "     cracked in several places. A lens and a forceps lying upon the seat\n",
            "     of the chair suggested that the hat had been suspended in this manner\n",
            "     for the purpose of examination.\n",
            "\n",
            "     \"You are engaged,\" said I; \"perhaps I interrupt you.\"\n",
            "\n",
            "     \"Not at all. I am glad to have a friend with whom I can discuss my\n",
            "     results. The matter is a perfectly trivial one\"--h\n"
          ]
        }
      ],
      "source": [
        "# Extract all text files from the dataset path and combine into a single string\n",
        "all_text = \"\"\n",
        "for fname in os.listdir(path):\n",
        "    if fname.endswith('.txt'):\n",
        "        with open(os.path.join(path, fname), encoding='utf-8') as f:\n",
        "            all_text += f.read() + \"\\n\"\n",
        "\n",
        "print(all_text[:1000])  # Print the first 1000 characters as a sample"
      ]
    },
    {
      "cell_type": "code",
      "execution_count": 5,
      "id": "266bf04e",
      "metadata": {
        "colab": {
          "base_uri": "https://localhost:8080/"
        },
        "id": "266bf04e",
        "outputId": "7b6d4ebf-82d7-44ab-8b30-7c35147861f8"
      },
      "outputs": [
        {
          "output_type": "stream",
          "name": "stderr",
          "text": [
            "[nltk_data] Downloading package stopwords to /root/nltk_data...\n",
            "[nltk_data]   Unzipping corpora/stopwords.zip.\n"
          ]
        }
      ],
      "source": [
        "from collections import Counter\n",
        "import nltk\n",
        "from nltk.corpus import stopwords\n",
        "nltk.download('stopwords')\n",
        "stop_words = set(stopwords.words('english'))"
      ]
    },
    {
      "cell_type": "markdown",
      "id": "2737579e",
      "metadata": {
        "id": "2737579e"
      },
      "source": [
        "##### Text Preprocessing Pipeline"
      ]
    },
    {
      "cell_type": "code",
      "execution_count": 6,
      "id": "1bd0edac",
      "metadata": {
        "id": "1bd0edac"
      },
      "outputs": [],
      "source": [
        "# Tokenization\n",
        "tokens = [word for word in all_text.lower().split() if word not in stop_words and word.strip() != \"\"]\n",
        "tokens = [word for word in tokens if not (word == ' ' and tokens.count(' ') > 1)]\n",
        "tokens = all_text.lower().split()\n",
        "word_counts = Counter(tokens)\n",
        "word2idx = {word: idx+1 for idx, (word, _) in enumerate(word_counts.items())}\n",
        "idx2word = {idx: word for word, idx in word2idx.items()}\n",
        "total_words = len(word2idx) + 1\n",
        "\n",
        "# Sequence creation for next-word prediction\n",
        "input_sequences = []\n",
        "for line in all_text.split('\\n'):\n",
        "    token_list = [word2idx[word] for word in line.lower().split() if word in word2idx]\n",
        "    for i in range(1, len(token_list)):\n",
        "        n_gram_sequence = token_list[:i+1]\n",
        "        input_sequences.append(n_gram_sequence)\n",
        "\n",
        "# Pad sequences\n",
        "# Each n-gram sequence is padded with zeros at the beginning so that all sequences have the same length (max_seq_len).\n",
        "# This ensures that the input to the model is of consistent shape.\n",
        "max_seq_len = max([len(seq) for seq in input_sequences])\n",
        "def pad_sequence(seq, max_len):\n",
        "    return [0]*(max_len - len(seq)) + seq\n",
        "\n",
        "input_sequences = np.array([pad_sequence(seq, max_seq_len) for seq in input_sequences])\n",
        "\n",
        "# Features and labels\n",
        "X = input_sequences[:, :-1]\n",
        "y = input_sequences[:, -1]"
      ]
    },
    {
      "cell_type": "markdown",
      "id": "eb0421f0",
      "metadata": {
        "id": "eb0421f0"
      },
      "source": [
        "##### PyTorch Dataset and DataLoader"
      ]
    },
    {
      "cell_type": "code",
      "execution_count": 7,
      "id": "cfde51fc",
      "metadata": {
        "id": "cfde51fc"
      },
      "outputs": [],
      "source": [
        "class TextDataset(Dataset):\n",
        "    def __init__(self, X, y):\n",
        "        self.X = torch.tensor(X, dtype=torch.long)\n",
        "        self.y = torch.tensor(y, dtype=torch.long)\n",
        "    def __len__(self):\n",
        "        return len(self.X)\n",
        "    def __getitem__(self, idx):\n",
        "        return self.X[idx], self.y[idx]\n",
        "\n",
        "X_train, X_val, y_train, y_val = train_test_split(X, y, test_size=0.2, random_state=42)\n",
        "train_dataset = TextDataset(X_train, y_train)\n",
        "val_dataset = TextDataset(X_val, y_val)\n",
        "train_loader = DataLoader(train_dataset, batch_size=256, shuffle=True)\n",
        "val_loader = DataLoader(val_dataset, batch_size=256)"
      ]
    },
    {
      "cell_type": "markdown",
      "id": "ad549158",
      "metadata": {
        "id": "ad549158"
      },
      "source": [
        "##### Model Architecture Design"
      ]
    },
    {
      "cell_type": "code",
      "execution_count": 10,
      "id": "ff615cc9",
      "metadata": {
        "id": "ff615cc9"
      },
      "outputs": [],
      "source": [
        "# The NextWordPredictor model is a neural network designed for next-word prediction in text sequences.\n",
        "# It consists of:\n",
        "# - An Embedding layer: Converts word indices into dense vector representations.\n",
        "# - An LSTM layer: Processes the sequence of embeddings to capture temporal dependencies and context.\n",
        "# - A fully connected (Linear) layer: Maps the LSTM output to vocabulary-sized logits for next-word prediction.\n",
        "# The model takes a sequence of word indices as input and outputs a probability distribution over the vocabulary for the next word.\n",
        "\n",
        "class NextWordPredictor(nn.Module):\n",
        "    def __init__(self, vocab_size, embed_dim, hidden_dim, num_layers=2):\n",
        "        super().__init__()\n",
        "        self.embedding = nn.Embedding(vocab_size, embed_dim)\n",
        "        self.lstm = nn.LSTM(embed_dim, hidden_dim, num_layers=num_layers, batch_first=True)\n",
        "        self.fc = nn.Linear(hidden_dim, vocab_size)\n",
        "    def forward(self, x):\n",
        "        x = self.embedding(x)\n",
        "        out, _ = self.lstm(x)\n",
        "        out = self.fc(out[:, -1, :])\n",
        "        return out\n",
        "\n",
        "device = torch.device('cuda' if torch.cuda.is_available() else 'cpu')\n",
        "model = NextWordPredictor(total_words, 64, 100).to(device)\n",
        "criterion = nn.CrossEntropyLoss()\n",
        "optimizer = optim.Adam(model.parameters(), lr=0.001)"
      ]
    },
    {
      "cell_type": "markdown",
      "id": "a5763aa9",
      "metadata": {
        "id": "a5763aa9"
      },
      "source": [
        "##### Model Training"
      ]
    },
    {
      "cell_type": "code",
      "execution_count": 11,
      "id": "dd5e1174",
      "metadata": {
        "colab": {
          "base_uri": "https://localhost:8080/"
        },
        "id": "dd5e1174",
        "outputId": "6304d190-d9dd-4fa6-bb3a-3e96383c7e62"
      },
      "outputs": [
        {
          "output_type": "stream",
          "name": "stdout",
          "text": [
            "Epoch 1/60, Train Acc: 0.1097, Val Acc: 0.1369\n",
            "Epoch 2/60, Train Acc: 0.1528, Val Acc: 0.1601\n",
            "Epoch 3/60, Train Acc: 0.1721, Val Acc: 0.1731\n",
            "Epoch 4/60, Train Acc: 0.1873, Val Acc: 0.1840\n",
            "Epoch 5/60, Train Acc: 0.2058, Val Acc: 0.1962\n",
            "Epoch 6/60, Train Acc: 0.2256, Val Acc: 0.2100\n",
            "Epoch 7/60, Train Acc: 0.2451, Val Acc: 0.2228\n",
            "Epoch 8/60, Train Acc: 0.2635, Val Acc: 0.2350\n",
            "Epoch 9/60, Train Acc: 0.2808, Val Acc: 0.2465\n",
            "Epoch 10/60, Train Acc: 0.2967, Val Acc: 0.2585\n",
            "Epoch 11/60, Train Acc: 0.3113, Val Acc: 0.2689\n",
            "Epoch 12/60, Train Acc: 0.3251, Val Acc: 0.2783\n",
            "Epoch 13/60, Train Acc: 0.3379, Val Acc: 0.2866\n",
            "Epoch 14/60, Train Acc: 0.3496, Val Acc: 0.2944\n",
            "Epoch 15/60, Train Acc: 0.3604, Val Acc: 0.3026\n",
            "Epoch 16/60, Train Acc: 0.3707, Val Acc: 0.3111\n",
            "Epoch 17/60, Train Acc: 0.3802, Val Acc: 0.3185\n",
            "Epoch 18/60, Train Acc: 0.3893, Val Acc: 0.3247\n",
            "Epoch 19/60, Train Acc: 0.3977, Val Acc: 0.3301\n",
            "Epoch 20/60, Train Acc: 0.4053, Val Acc: 0.3366\n",
            "Epoch 21/60, Train Acc: 0.4125, Val Acc: 0.3426\n",
            "Epoch 22/60, Train Acc: 0.4195, Val Acc: 0.3471\n",
            "Epoch 23/60, Train Acc: 0.4259, Val Acc: 0.3537\n",
            "Epoch 24/60, Train Acc: 0.4321, Val Acc: 0.3570\n",
            "Epoch 25/60, Train Acc: 0.4377, Val Acc: 0.3617\n",
            "Epoch 26/60, Train Acc: 0.4428, Val Acc: 0.3663\n",
            "Epoch 27/60, Train Acc: 0.4481, Val Acc: 0.3699\n",
            "Epoch 28/60, Train Acc: 0.4527, Val Acc: 0.3743\n",
            "Epoch 29/60, Train Acc: 0.4575, Val Acc: 0.3780\n",
            "Epoch 30/60, Train Acc: 0.4618, Val Acc: 0.3808\n",
            "Epoch 31/60, Train Acc: 0.4654, Val Acc: 0.3835\n",
            "Epoch 32/60, Train Acc: 0.4694, Val Acc: 0.3881\n",
            "Epoch 33/60, Train Acc: 0.4727, Val Acc: 0.3907\n",
            "Epoch 34/60, Train Acc: 0.4764, Val Acc: 0.3936\n",
            "Epoch 35/60, Train Acc: 0.4793, Val Acc: 0.3962\n",
            "Epoch 36/60, Train Acc: 0.4823, Val Acc: 0.3985\n",
            "Epoch 37/60, Train Acc: 0.4855, Val Acc: 0.4012\n",
            "Epoch 38/60, Train Acc: 0.4879, Val Acc: 0.4041\n",
            "Epoch 39/60, Train Acc: 0.4909, Val Acc: 0.4051\n",
            "Epoch 40/60, Train Acc: 0.4933, Val Acc: 0.4083\n",
            "Epoch 41/60, Train Acc: 0.4959, Val Acc: 0.4090\n",
            "Epoch 42/60, Train Acc: 0.4980, Val Acc: 0.4122\n",
            "Epoch 43/60, Train Acc: 0.5001, Val Acc: 0.4148\n",
            "Epoch 44/60, Train Acc: 0.5021, Val Acc: 0.4152\n",
            "Epoch 45/60, Train Acc: 0.5045, Val Acc: 0.4170\n",
            "Epoch 46/60, Train Acc: 0.5062, Val Acc: 0.4199\n",
            "Epoch 47/60, Train Acc: 0.5082, Val Acc: 0.4202\n",
            "Epoch 48/60, Train Acc: 0.5099, Val Acc: 0.4233\n",
            "Epoch 49/60, Train Acc: 0.5116, Val Acc: 0.4253\n",
            "Epoch 50/60, Train Acc: 0.5130, Val Acc: 0.4257\n",
            "Epoch 51/60, Train Acc: 0.5150, Val Acc: 0.4271\n",
            "Epoch 52/60, Train Acc: 0.5164, Val Acc: 0.4276\n",
            "Epoch 53/60, Train Acc: 0.5178, Val Acc: 0.4301\n",
            "Epoch 54/60, Train Acc: 0.5193, Val Acc: 0.4312\n",
            "Epoch 55/60, Train Acc: 0.5208, Val Acc: 0.4316\n",
            "Epoch 56/60, Train Acc: 0.5219, Val Acc: 0.4342\n",
            "Epoch 57/60, Train Acc: 0.5236, Val Acc: 0.4346\n",
            "Epoch 58/60, Train Acc: 0.5244, Val Acc: 0.4373\n",
            "Epoch 59/60, Train Acc: 0.5257, Val Acc: 0.4382\n",
            "Epoch 60/60, Train Acc: 0.5267, Val Acc: 0.4380\n"
          ]
        }
      ],
      "source": [
        "num_epochs = 60\n",
        "train_acc, val_acc = [], []\n",
        "\n",
        "for epoch in range(num_epochs):\n",
        "    model.train()\n",
        "    correct, total = 0, 0\n",
        "    for X_train, y_train in train_loader:\n",
        "        X_train, y_train = X_train.to(device), y_train.to(device)\n",
        "        optimizer.zero_grad()\n",
        "        outputs = model(X_train)\n",
        "        loss = criterion(outputs, y_train)\n",
        "        loss.backward()\n",
        "        optimizer.step()\n",
        "        _, predicted = torch.max(outputs, 1)\n",
        "        correct += (predicted == y_train).sum().item()\n",
        "        total += y_train.size(0)\n",
        "    train_accuracy = correct / total\n",
        "    train_acc.append(train_accuracy)\n",
        "\n",
        "    # Validation\n",
        "    model.eval()\n",
        "    correct, total = 0, 0\n",
        "    with torch.no_grad():\n",
        "        for X_val, y_val in val_loader:\n",
        "            X_val, y_val = X_val.to(device), y_val.to(device)\n",
        "            outputs = model(X_val)\n",
        "            _, predicted = torch.max(outputs, 1)\n",
        "            correct += (predicted == y_val).sum().item()\n",
        "            total += y_val.size(0)\n",
        "    val_accuracy = correct / total\n",
        "    val_acc.append(val_accuracy)\n",
        "    print(f\"Epoch {epoch+1}/{num_epochs}, Train Acc: {train_accuracy:.4f}, Val Acc: {val_accuracy:.4f}\")"
      ]
    },
    {
      "cell_type": "markdown",
      "id": "9ca249de",
      "metadata": {
        "id": "9ca249de"
      },
      "source": [
        "##### Prediction and Evaluation"
      ]
    },
    {
      "cell_type": "code",
      "execution_count": 12,
      "id": "d86d53e5",
      "metadata": {
        "id": "d86d53e5",
        "colab": {
          "base_uri": "https://localhost:8080/"
        },
        "outputId": "cb25478f-18f5-4440-e392-5933f06a31ee"
      },
      "outputs": [
        {
          "output_type": "stream",
          "name": "stdout",
          "text": [
            "Final Validation Accuracy: 0.4380\n"
          ]
        }
      ],
      "source": [
        "def predict_next_word(model, word2idx, idx2word, text_seed, max_seq_len, device):\n",
        "    model.eval()\n",
        "    tokens = [word2idx.get(word, 0) for word in text_seed.lower().split()]\n",
        "    tokens = pad_sequence(tokens, max_seq_len-1)\n",
        "    input_tensor = torch.tensor([tokens], dtype=torch.long).to(device)\n",
        "    with torch.no_grad():\n",
        "        output = model(input_tensor)\n",
        "        predicted_idx = torch.argmax(output, dim=1).item()\n",
        "    return idx2word.get(predicted_idx, \"\")\n",
        "\n",
        "# Final validation accuracy\n",
        "print(f\"Final Validation Accuracy: {val_acc[-1]:.4f}\")"
      ]
    },
    {
      "cell_type": "markdown",
      "id": "331bcb01",
      "metadata": {
        "id": "331bcb01"
      },
      "source": [
        "##### Visualization and Reporting"
      ]
    },
    {
      "cell_type": "code",
      "execution_count": 13,
      "id": "6c70830a",
      "metadata": {
        "id": "6c70830a",
        "colab": {
          "base_uri": "https://localhost:8080/",
          "height": 524
        },
        "outputId": "9c6e41b8-9aa3-40cf-a804-9b3b4bc4cd51"
      },
      "outputs": [
        {
          "output_type": "display_data",
          "data": {
            "text/plain": [
              "<Figure size 640x480 with 1 Axes>"
            ],
            "image/png": "[encoded data removed]"
          },
          "metadata": {}
        },
        {
          "output_type": "stream",
          "name": "stdout",
          "text": [
            "Input: 'Once upon a' -> Predicted next word: 'paper.\"'\n",
            "Input: 'The quick brown' -> Predicted next word: 'sun'\n",
            "Input: 'Deep learning is' -> Predicted next word: 'never'\n"
          ]
        }
      ],
      "source": [
        "plt.plot(train_acc, label='train_accuracy')\n",
        "plt.plot(val_acc, label='val_accuracy')\n",
        "plt.xlabel('Epoch')\n",
        "plt.ylabel('Accuracy')\n",
        "plt.legend()\n",
        "plt.title('Training and Validation Accuracy')\n",
        "plt.show()\n",
        "\n",
        "# Sample predictions\n",
        "sample_sentences = [\n",
        "    \"Once upon a\",\n",
        "    \"The quick brown\",\n",
        "    \"Deep learning is\"\n",
        "]\n",
        "for seed in sample_sentences:\n",
        "    next_word = predict_next_word(model, word2idx, idx2word, seed, max_seq_len, device)\n",
        "    print(f\"Input: '{seed}' -> Predicted next word: '{next_word}'\")"
      ]
    },
    {
      "cell_type": "code",
      "source": [
        "torch.save(model.state_dict(), 'next_word_predictor.pth')"
      ],
      "metadata": {
        "id": "TMmWEEiDh9vx"
      },
      "id": "TMmWEEiDh9vx",
      "execution_count": 14,
      "outputs": []
    },
    {
      "cell_type": "code",
      "source": [],
      "metadata": {
        "id": "EFy3mMHErI8c"
      },
      "id": "EFy3mMHErI8c",
      "execution_count": null,
      "outputs": []
    }
  ],
  "metadata": {
    "accelerator": "GPU",
    "colab": {
      "gpuType": "T4",
      "provenance": []
    },
    "kernelspec": {
      "display_name": "dev",
      "language": "python",
      "name": "python3"
    },
    "language_info": {
      "codemirror_mode": {
        "name": "ipython",
        "version": 3
      },
      "file_extension": ".py",
      "mimetype": "text/x-python",
      "name": "python",
      "nbconvert_exporter": "python",
      "pygments_lexer": "ipython3",
      "version": "3.12.9"
    }
  },
  "nbformat": 4,
  "nbformat_minor": 5
}