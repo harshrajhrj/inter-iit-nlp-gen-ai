{
 "cells": [
  {
   "cell_type": "markdown",
   "id": "dfc4d628",
   "metadata": {
    "id": "dfc4d628"
   },
   "source": [
    "#### Build an LSTM-based next-word prediction model using a public dataset.\n",
    "- Text preprocessing, tokenization, LSTM architecture, model training, prediction\n",
    "- Sherlock Holmes Stories (public domain)"
   ]
  },
  {
   "cell_type": "code",
   "execution_count": 1,
   "id": "4d195723",
   "metadata": {
    "execution": {
     "iopub.execute_input": "2025-06-23T09:45:35.505224Z",
     "iopub.status.busy": "2025-06-23T09:45:35.504757Z",
     "iopub.status.idle": "2025-06-23T09:45:41.504052Z",
     "shell.execute_reply": "2025-06-23T09:45:41.503496Z",
     "shell.execute_reply.started": "2025-06-23T09:45:35.505183Z"
    },
    "id": "4d195723",
    "trusted": true
   },
   "outputs": [],
   "source": [
    "import torch\n",
    "import numpy as np\n",
    "import nltk\n",
    "from nltk.tokenize import word_tokenize\n",
    "from collections import Counter\n",
    "import random\n",
    "import torch.nn as nn\n",
    "import torch.optim as optim\n",
    "import matplotlib.pyplot as plt\n",
    "from torch.utils.data import TensorDataset, DataLoader\n",
    "import kagglehub\n",
    "import os"
   ]
  },
  {
   "cell_type": "code",
   "execution_count": 2,
   "id": "0a15b101",
   "metadata": {
    "colab": {
     "base_uri": "https://localhost:8080/"
    },
    "execution": {
     "iopub.execute_input": "2025-06-23T09:45:42.959836Z",
     "iopub.status.busy": "2025-06-23T09:45:42.959471Z",
     "iopub.status.idle": "2025-06-23T09:45:43.059926Z",
     "shell.execute_reply": "2025-06-23T09:45:43.059249Z",
     "shell.execute_reply.started": "2025-06-23T09:45:42.959816Z"
    },
    "id": "0a15b101",
    "outputId": "aa44ddd6-bb5c-4d45-d946-a1d93f1bc02c",
    "trusted": true
   },
   "outputs": [
    {
     "name": "stderr",
     "output_type": "stream",
     "text": [
      "[nltk_data] Downloading package punkt_tab to /usr/share/nltk_data...\n",
      "[nltk_data]   Package punkt_tab is already up-to-date!\n"
     ]
    },
    {
     "data": {
      "text/plain": [
       "True"
      ]
     },
     "execution_count": 2,
     "metadata": {},
     "output_type": "execute_result"
    }
   ],
   "source": [
    "# Download NLTK data\n",
    "nltk.download('punkt_tab')"
   ]
  },
  {
   "cell_type": "code",
   "execution_count": 3,
   "id": "bde01f44",
   "metadata": {
    "id": "bde01f44"
   },
   "outputs": [],
   "source": [
    "# !pip install kagglehub"
   ]
  },
  {
   "cell_type": "code",
   "execution_count": 3,
   "id": "f2562364",
   "metadata": {
    "execution": {
     "iopub.execute_input": "2025-06-23T09:45:49.544050Z",
     "iopub.status.busy": "2025-06-23T09:45:49.543779Z",
     "iopub.status.idle": "2025-06-23T09:45:49.605515Z",
     "shell.execute_reply": "2025-06-23T09:45:49.604851Z",
     "shell.execute_reply.started": "2025-06-23T09:45:49.544031Z"
    },
    "id": "f2562364",
    "trusted": true
   },
   "outputs": [],
   "source": [
    "device = torch.device(\"cuda\" if torch.cuda.is_available() else \"cpu\")"
   ]
  },
  {
   "cell_type": "code",
   "execution_count": 4,
   "id": "9b52e72c",
   "metadata": {
    "colab": {
     "base_uri": "https://localhost:8080/"
    },
    "execution": {
     "iopub.execute_input": "2025-06-23T09:45:56.863779Z",
     "iopub.status.busy": "2025-06-23T09:45:56.863110Z",
     "iopub.status.idle": "2025-06-23T09:46:01.857948Z",
     "shell.execute_reply": "2025-06-23T09:46:01.857337Z",
     "shell.execute_reply.started": "2025-06-23T09:45:56.863755Z"
    },
    "id": "9b52e72c",
    "outputId": "83926e2d-5803-4129-8c25-83747d8c0db0",
    "trusted": true
   },
   "outputs": [
    {
     "name": "stdout",
     "output_type": "stream",
     "text": [
      "Path to dataset files: /kaggle/input/sherlock-holmes-stories\n"
     ]
    }
   ],
   "source": [
    "# Uncomment the following line to download the dataset\n",
    "# Download latest version\n",
    "# path = kagglehub.dataset_download(\"idevji1/sherlock-holmes-stories\")\n",
    "\n",
    "# print(\"Path to dataset files:\", path)"
   ]
  },
  {
   "cell_type": "markdown",
   "id": "8a1b919a",
   "metadata": {
    "id": "8a1b919a"
   },
   "source": [
    "###### PATH=`C:\\Users\\DELL\\.cache\\kagglehub\\datasets\\idevji1\\sherlock-holmes-stories\\versions\\1`"
   ]
  },
  {
   "cell_type": "code",
   "execution_count": 6,
   "id": "4660e176",
   "metadata": {},
   "outputs": [],
   "source": [
    "# Uncomment the following line to set dataset path\n",
    "# path='/kaggle/input/sherlock-holmes-stories/sherlock'"
   ]
  },
  {
   "cell_type": "code",
   "execution_count": 5,
   "id": "644e116f",
   "metadata": {
    "execution": {
     "iopub.execute_input": "2025-06-23T09:46:32.786578Z",
     "iopub.status.busy": "2025-06-23T09:46:32.786299Z",
     "iopub.status.idle": "2025-06-23T09:46:32.790311Z",
     "shell.execute_reply": "2025-06-23T09:46:32.789627Z",
     "shell.execute_reply.started": "2025-06-23T09:46:32.786556Z"
    },
    "id": "644e116f",
    "trusted": true
   },
   "outputs": [],
   "source": [
    "# comment following line if you have already downloaded the dataset because it will overwrite the above \"path\"\n",
    "path='/kaggle/input/sherlock-holmes-stories/sherlock'"
   ]
  },
  {
   "cell_type": "code",
   "execution_count": 6,
   "id": "45e20037",
   "metadata": {
    "colab": {
     "base_uri": "https://localhost:8080/"
    },
    "execution": {
     "iopub.execute_input": "2025-06-23T09:46:35.374587Z",
     "iopub.status.busy": "2025-06-23T09:46:35.374089Z",
     "iopub.status.idle": "2025-06-23T09:46:36.721452Z",
     "shell.execute_reply": "2025-06-23T09:46:36.720822Z",
     "shell.execute_reply.started": "2025-06-23T09:46:35.374564Z"
    },
    "id": "45e20037",
    "outputId": "ca51425e-cda1-4c85-8b33-0cb81af20653",
    "trusted": true
   },
   "outputs": [
    {
     "name": "stdout",
     "output_type": "stream",
     "text": [
      "\n",
      "\n",
      "\n",
      "\n",
      "                       THE ADVENTURE OF THE BLUE CARBUNCLE\n",
      "\n",
      "                               Arthur Conan Doyle\n",
      "\n",
      "\n",
      "\n",
      "     I had called upon my friend Sherlock Holmes upon the second morning\n",
      "     after Christmas, with the intention of wishing him the compliments of\n",
      "     the season. He was lounging upon the sofa in a purple dressing-gown,\n",
      "     a pipe-rack within his reach upon the right, and a pile of crumpled\n",
      "     morning papers, evidently newly studied, near at hand. Beside the\n",
      "     couch was a wooden chair, and on the angle of the back hung a very\n",
      "     seedy and disreputable hard-felt hat, much the worse for wear, and\n",
      "     cracked in several places. A lens and a forceps lying upon the seat\n",
      "     of the chair suggested that the hat had been suspended in this manner\n",
      "     for the purpose of examination.\n",
      "\n",
      "     \"You are engaged,\" said I; \"perhaps I interrupt you.\"\n",
      "\n",
      "     \"Not at all. I am glad to have a friend with whom I can discuss my\n",
      "     results. The matter is a perfectly trivial one\"--h\n"
     ]
    }
   ],
   "source": [
    "# extracting all text files from the dataset path and combine into a single string\n",
    "all_text = \"\"\n",
    "for fname in os.listdir(path):\n",
    "    if fname.endswith('.txt'):\n",
    "        with open(os.path.join(path, fname), encoding='utf-8') as f:\n",
    "            all_text += f.read() + \"\\n\"\n",
    "\n",
    "print(all_text[:1000])  # Print the first 1000 characters as a sample"
   ]
  },
  {
   "cell_type": "code",
   "execution_count": 7,
   "id": "3ab4cb52",
   "metadata": {
    "execution": {
     "iopub.execute_input": "2025-06-23T09:46:40.239348Z",
     "iopub.status.busy": "2025-06-23T09:46:40.238781Z",
     "iopub.status.idle": "2025-06-23T09:46:40.247987Z",
     "shell.execute_reply": "2025-06-23T09:46:40.247252Z",
     "shell.execute_reply.started": "2025-06-23T09:46:40.239324Z"
    },
    "trusted": true
   },
   "outputs": [
    {
     "name": "stderr",
     "output_type": "stream",
     "text": [
      "[nltk_data] Downloading package stopwords to /usr/share/nltk_data...\n",
      "[nltk_data]   Package stopwords is already up-to-date!\n"
     ]
    }
   ],
   "source": [
    "from nltk.corpus import stopwords\n",
    "import re\n",
    "nltk.download('stopwords')\n",
    "stop_words = set(stopwords.words('english'))"
   ]
  },
  {
   "cell_type": "code",
   "execution_count": 8,
   "id": "359dc005",
   "metadata": {
    "execution": {
     "iopub.execute_input": "2025-06-23T09:46:46.386188Z",
     "iopub.status.busy": "2025-06-23T09:46:46.385912Z",
     "iopub.status.idle": "2025-06-23T09:47:16.687040Z",
     "shell.execute_reply": "2025-06-23T09:47:16.686438Z",
     "shell.execute_reply.started": "2025-06-23T09:46:46.386168Z"
    },
    "id": "359dc005",
    "trusted": true
   },
   "outputs": [],
   "source": [
    "# Sample text\n",
    "# samall_text = \"\"\"\n",
    "# Mr. Sherlock Holmes, who was usually very late in the mornings, save upon those not infrequent occasions when he was up all night, was seated at the breakfast table.\n",
    "# I stood upon the hearth-rug and picked up the stick which our visitor had left behind him the night before.\n",
    "# \"\"\"\n",
    "\n",
    "\n",
    "# text preprocessing and tokenization\n",
    "\n",
    "# Remove extra spaces and tokenize\n",
    "filtered_text = re.sub(r'\\s+', ' ', all_text)\n",
    "tokens = [w for w in word_tokenize(filtered_text.lower()) if w.isalpha() and w not in stop_words]\n",
    "tokens = word_tokenize(all_text.lower())\n",
    "vocab = sorted(set(tokens))\n",
    "wordtoidx = {w: i for i, w in enumerate(vocab)}\n",
    "idxtoword = {i: w for w, i in wordtoidx.items()}"
   ]
  },
  {
   "cell_type": "code",
   "execution_count": 9,
   "id": "0ab2d3f0",
   "metadata": {
    "execution": {
     "iopub.execute_input": "2025-06-23T09:47:16.688540Z",
     "iopub.status.busy": "2025-06-23T09:47:16.688288Z",
     "iopub.status.idle": "2025-06-23T09:47:23.986356Z",
     "shell.execute_reply": "2025-06-23T09:47:23.985659Z",
     "shell.execute_reply.started": "2025-06-23T09:47:16.688518Z"
    },
    "id": "0ab2d3f0",
    "trusted": true
   },
   "outputs": [],
   "source": [
    "# preparing sequences for training (sequence length = 5)\n",
    "seq_length = 5\n",
    "sequences = []\n",
    "for i in range(len(tokens) - seq_length):\n",
    "    seq = tokens[i:i+seq_length]\n",
    "    target = tokens[i+seq_length]\n",
    "    sequences.append((seq, target))"
   ]
  },
  {
   "cell_type": "code",
   "execution_count": 10,
   "id": "cc4aab41",
   "metadata": {
    "execution": {
     "iopub.execute_input": "2025-06-23T09:47:23.987436Z",
     "iopub.status.busy": "2025-06-23T09:47:23.987129Z",
     "iopub.status.idle": "2025-06-23T09:47:47.014000Z",
     "shell.execute_reply": "2025-06-23T09:47:47.013421Z",
     "shell.execute_reply.started": "2025-06-23T09:47:23.987385Z"
    },
    "id": "cc4aab41",
    "trusted": true
   },
   "outputs": [],
   "source": [
    "# convert word to indices\n",
    "def sequenceToTensor(seq):\n",
    "    return torch.tensor([wordtoidx[w] for w in seq], dtype=torch.long)\n",
    "\n",
    "X = torch.stack([sequenceToTensor(seq) for seq, _ in sequences])\n",
    "y = torch.tensor([wordtoidx[target] for _, target in sequences], dtype=torch.long)\n",
    "batch_size = 256\n",
    "dataset = TensorDataset(X, y)\n",
    "dataloader = DataLoader(dataset, batch_size=batch_size, shuffle=True)\n"
   ]
  },
  {
   "cell_type": "markdown",
   "id": "9d188088",
   "metadata": {
    "id": "9d188088"
   },
   "source": [
    "##### LSTM Model"
   ]
  },
  {
   "cell_type": "code",
   "execution_count": 11,
   "id": "13ada25c",
   "metadata": {
    "execution": {
     "iopub.execute_input": "2025-06-23T09:47:47.015451Z",
     "iopub.status.busy": "2025-06-23T09:47:47.015180Z",
     "iopub.status.idle": "2025-06-23T09:47:47.028092Z",
     "shell.execute_reply": "2025-06-23T09:47:47.027363Z",
     "shell.execute_reply.started": "2025-06-23T09:47:47.015425Z"
    },
    "id": "13ada25c",
    "trusted": true
   },
   "outputs": [],
   "source": [
    "class LSTMModel(nn.Module):\n",
    "    def __init__(self, vocab_size, embed_size, hidden_size, num_layers=3):\n",
    "        super(LSTMModel, self).__init__()\n",
    "        # vocab_size: number of unique words in the vocabulary\n",
    "        # embed_size: size of the word embedding vectors\n",
    "        # hidden_size: number of features in the hidden state of each LSTM layer\n",
    "        # num_layers: number of stacked LSTM layers\n",
    "\n",
    "        self.embedding=nn.Embedding(vocab_size, embed_size)\n",
    "        self.hidden_size=hidden_size\n",
    "        self.num_layers=num_layers\n",
    "\n",
    "        # LSTM gate weights and biases for each layer\n",
    "        # W_ii: input-to-input gate weights\n",
    "        # W_hi: hidden-to-input gate weights\n",
    "        # b_i: input gate biases\n",
    "        self.W_ii=nn.ParameterList([nn.Parameter(torch.Tensor(embed_size if i == 0 else hidden_size, hidden_size)) for i in range(num_layers)])\n",
    "        self.W_hi=nn.ParameterList([nn.Parameter(torch.Tensor(hidden_size, hidden_size)) for _ in range(num_layers)])\n",
    "        self.b_i=nn.ParameterList([nn.Parameter(torch.zeros(hidden_size)) for _ in range(num_layers)])\n",
    "\n",
    "        # W_if: input-to-forget gate weights\n",
    "        # W_hf: hidden-to-forget gate weights\n",
    "        # b_f: forget gate biases\n",
    "        self.W_if=nn.ParameterList([nn.Parameter(torch.Tensor(embed_size if i == 0 else hidden_size, hidden_size)) for i in range(num_layers)])\n",
    "        self.W_hf=nn.ParameterList([nn.Parameter(torch.Tensor(hidden_size, hidden_size)) for _ in range(num_layers)])\n",
    "        self.b_f=nn.ParameterList([nn.Parameter(torch.zeros(hidden_size)) for _ in range(num_layers)])\n",
    "\n",
    "        # W_io: input-to-output gate weights\n",
    "        # W_ho: hidden-to-output gate weights\n",
    "        # b_o: output gate biases\n",
    "        self.W_io=nn.ParameterList([nn.Parameter(torch.Tensor(embed_size if i == 0 else hidden_size, hidden_size)) for i in range(num_layers)])\n",
    "        self.W_ho=nn.ParameterList([nn.Parameter(torch.Tensor(hidden_size, hidden_size)) for _ in range(num_layers)])\n",
    "        self.b_o=nn.ParameterList([nn.Parameter(torch.zeros(hidden_size)) for _ in range(num_layers)])\n",
    "\n",
    "        # W_ig: input-to-cell gate weights (candidate cell state)\n",
    "        # W_hg: hidden-to-cell gate weights\n",
    "        # b_g: cell gate biases\n",
    "        self.W_ig=nn.ParameterList([nn.Parameter(torch.Tensor(embed_size if i == 0 else hidden_size, hidden_size)) for i in range(num_layers)])\n",
    "        self.W_hg=nn.ParameterList([nn.Parameter(torch.Tensor(hidden_size, hidden_size)) for _ in range(num_layers)])\n",
    "        self.b_g=nn.ParameterList([nn.Parameter(torch.zeros(hidden_size)) for _ in range(num_layers)])\n",
    "\n",
    "        # Fully connected layer to map hidden state to vocabulary size (output logits)\n",
    "        self.fc=nn.Linear(hidden_size, vocab_size)\n",
    "        self.init_weights()\n",
    "\n",
    "    def init_weights(self):\n",
    "        # Initialize weights using Xavier uniform initialization\n",
    "        for param in self.parameters():\n",
    "            if param.dim() > 1:\n",
    "                nn.init.xavier_uniform_(param)\n",
    "\n",
    "    def forward(self, x, hidden=None):\n",
    "        batch_size, seq_len = x.size()\n",
    "        x = self.embedding(x)\n",
    "\n",
    "        if hidden is None:\n",
    "            # Initialize hidden and cell states to zeros\n",
    "            h_t = [torch.zeros(batch_size, self.hidden_size, device=x.device) for _ in range(self.num_layers)]\n",
    "            c_t = [torch.zeros(batch_size, self.hidden_size, device=x.device) for _ in range(self.num_layers)]\n",
    "        else:\n",
    "            h_t, c_t = hidden\n",
    "\n",
    "        for t in range(seq_len):\n",
    "            x_t = x[:, t, :]\n",
    "            for layer in range(self.num_layers):\n",
    "                input_t = x_t if layer == 0 else h_t[layer - 1]\n",
    "                # LSTM gate calculations\n",
    "                i_t = torch.sigmoid(input_t @ self.W_ii[layer] + h_t[layer] @ self.W_hi[layer] + self.b_i[layer])  # input gate\n",
    "                f_t = torch.sigmoid(input_t @ self.W_if[layer] + h_t[layer] @ self.W_hf[layer] + self.b_f[layer])  # forget gate\n",
    "                o_t = torch.sigmoid(input_t @ self.W_io[layer] + h_t[layer] @ self.W_ho[layer] + self.b_o[layer])  # output gate\n",
    "                g_t = torch.tanh(input_t @ self.W_ig[layer] + h_t[layer] @ self.W_hg[layer] + self.b_g[layer])     # cell candidate\n",
    "                c_t[layer] = f_t * c_t[layer] + i_t * g_t  # update cell state\n",
    "                h_t[layer] = o_t * torch.tanh(c_t[layer])   # update hidden state\n",
    "\n",
    "        out = self.fc(h_t[-1])  # Output logits for the last hidden state\n",
    "        return out, (h_t, c_t)"
   ]
  },
  {
   "cell_type": "markdown",
   "id": "cb127ffa",
   "metadata": {
    "id": "cb127ffa"
   },
   "source": [
    "##### Hyperparameters"
   ]
  },
  {
   "cell_type": "code",
   "execution_count": 12,
   "id": "ce2e1975",
   "metadata": {
    "execution": {
     "iopub.execute_input": "2025-06-23T09:48:02.967895Z",
     "iopub.status.busy": "2025-06-23T09:48:02.967347Z",
     "iopub.status.idle": "2025-06-23T09:48:07.346751Z",
     "shell.execute_reply": "2025-06-23T09:48:07.346139Z",
     "shell.execute_reply.started": "2025-06-23T09:48:02.967876Z"
    },
    "id": "ce2e1975",
    "trusted": true
   },
   "outputs": [],
   "source": [
    "vocab_size = len(vocab)\n",
    "embed_size = 32\n",
    "hidden_size = 64\n",
    "num_epochs = 50\n",
    "lr = 0.001\n",
    "\n",
    "model = LSTMModel(vocab_size, embed_size, hidden_size).to(device)\n",
    "criterion = nn.CrossEntropyLoss()\n",
    "optimizer = optim.Adam(model.parameters(), lr=lr)"
   ]
  },
  {
   "cell_type": "markdown",
   "id": "79389880",
   "metadata": {
    "id": "79389880"
   },
   "source": [
    "##### Training"
   ]
  },
  {
   "cell_type": "code",
   "execution_count": 13,
   "id": "44f6b84c",
   "metadata": {
    "colab": {
     "base_uri": "https://localhost:8080/"
    },
    "execution": {
     "iopub.execute_input": "2025-06-23T09:48:14.960786Z",
     "iopub.status.busy": "2025-06-23T09:48:14.960065Z",
     "iopub.status.idle": "2025-06-23T12:39:32.009531Z",
     "shell.execute_reply": "2025-06-23T12:39:32.008758Z",
     "shell.execute_reply.started": "2025-06-23T09:48:14.960762Z"
    },
    "id": "44f6b84c",
    "outputId": "553f9554-cf09-41f8-ee49-24caddf6cacb",
    "trusted": true
   },
   "outputs": [
    {
     "name": "stdout",
     "output_type": "stream",
     "text": [
      "Epoch 1/50, Loss: 5.2895\n",
      "Epoch 2/50, Loss: 4.4749\n",
      "Epoch 3/50, Loss: 4.1968\n",
      "Epoch 4/50, Loss: 4.0109\n",
      "Epoch 5/50, Loss: 3.8679\n",
      "Epoch 6/50, Loss: 3.7524\n",
      "Epoch 7/50, Loss: 3.6580\n",
      "Epoch 9/50, Loss: 3.5137\n",
      "Epoch 10/50, Loss: 3.4574\n",
      "Epoch 12/50, Loss: 3.3683\n",
      "Epoch 13/50, Loss: 3.3314\n",
      "Epoch 14/50, Loss: 3.2993\n",
      "Epoch 15/50, Loss: 3.2710\n",
      "Epoch 16/50, Loss: 3.2454\n",
      "Epoch 17/50, Loss: 3.2223\n",
      "Epoch 18/50, Loss: 3.2019\n",
      "Epoch 19/50, Loss: 3.1831\n",
      "Epoch 20/50, Loss: 3.1656\n",
      "Epoch 21/50, Loss: 3.1495\n",
      "Epoch 22/50, Loss: 3.1360\n",
      "Epoch 23/50, Loss: 3.1225\n",
      "Epoch 24/50, Loss: 3.1099\n",
      "Epoch 25/50, Loss: 3.0989\n",
      "Epoch 26/50, Loss: 3.0879\n",
      "Epoch 27/50, Loss: 3.0776\n",
      "Epoch 28/50, Loss: 3.0683\n",
      "Epoch 29/50, Loss: 3.0597\n",
      "Epoch 30/50, Loss: 3.0515\n",
      "Epoch 31/50, Loss: 3.0433\n",
      "Epoch 32/50, Loss: 3.0355\n",
      "Epoch 33/50, Loss: 3.0288\n",
      "Epoch 34/50, Loss: 3.0221\n",
      "Epoch 35/50, Loss: 3.0157\n",
      "Epoch 36/50, Loss: 3.0101\n",
      "Epoch 37/50, Loss: 3.0047\n",
      "Epoch 38/50, Loss: 2.9991\n",
      "Epoch 39/50, Loss: 2.9940\n",
      "Epoch 41/50, Loss: 2.9845\n",
      "Epoch 42/50, Loss: 2.9801\n",
      "Epoch 43/50, Loss: 2.9752\n",
      "Epoch 44/50, Loss: 2.9709\n",
      "Epoch 45/50, Loss: 2.9672\n",
      "Epoch 46/50, Loss: 2.9634\n",
      "Epoch 47/50, Loss: 2.9601\n",
      "Epoch 49/50, Loss: 2.9530\n",
      "Epoch 50/50, Loss: 2.9495\n"
     ]
    }
   ],
   "source": [
    "losses = []\n",
    "model.train()\n",
    "for epoch in range(num_epochs):\n",
    "    epoch_loss = 0\n",
    "    for X_train, y_train in dataloader:\n",
    "        X_train, y_train = X_train.to(device), y_train.to(device)\n",
    "        optimizer.zero_grad()\n",
    "        output, _ = model(X_train)\n",
    "        loss = criterion(output, y_train)\n",
    "        loss.backward()\n",
    "        optimizer.step()\n",
    "        epoch_loss += loss.item()\n",
    "    avg_loss = epoch_loss / len(dataloader)\n",
    "    losses.append(avg_loss)\n",
    "    print(f'Epoch {epoch+1}/{num_epochs}, Loss: {avg_loss:.4f}')"
   ]
  },
  {
   "cell_type": "markdown",
   "id": "c96d0da1",
   "metadata": {
    "id": "c96d0da1"
   },
   "source": [
    "##### Plotting loss"
   ]
  },
  {
   "cell_type": "code",
   "execution_count": 14,
   "id": "9acfcd62",
   "metadata": {
    "colab": {
     "base_uri": "https://localhost:8080/",
     "height": 472
    },
    "execution": {
     "iopub.execute_input": "2025-06-23T12:39:32.011307Z",
     "iopub.status.busy": "2025-06-23T12:39:32.010875Z",
     "iopub.status.idle": "2025-06-23T12:39:32.257955Z",
     "shell.execute_reply": "2025-06-23T12:39:32.257238Z",
     "shell.execute_reply.started": "2025-06-23T12:39:32.011289Z"
    },
    "id": "9acfcd62",
    "outputId": "10581790-b5d7-4c90-d434-d4eebed9b9f0",
    "trusted": true
   },
   "outputs": [
    {
     "data": {
      "image/png": "[encoded data removed]",
      "text/plain": [
       "<Figure size 640x480 with 1 Axes>"
      ]
     },
     "metadata": {},
     "output_type": "display_data"
    }
   ],
   "source": [
    "plt.plot(losses)\n",
    "plt.xlabel('Epoch')\n",
    "plt.ylabel('Loss')\n",
    "plt.title('Training Loss')\n",
    "plt.show()"
   ]
  },
  {
   "cell_type": "markdown",
   "id": "084d568f",
   "metadata": {
    "id": "084d568f"
   },
   "source": [
    "##### Text generation"
   ]
  },
  {
   "cell_type": "code",
   "execution_count": 16,
   "id": "ee9912f3",
   "metadata": {
    "colab": {
     "base_uri": "https://localhost:8080/"
    },
    "execution": {
     "iopub.execute_input": "2025-06-23T12:42:05.723980Z",
     "iopub.status.busy": "2025-06-23T12:42:05.723706Z",
     "iopub.status.idle": "2025-06-23T12:42:05.915530Z",
     "shell.execute_reply": "2025-06-23T12:42:05.914905Z",
     "shell.execute_reply.started": "2025-06-23T12:42:05.723959Z"
    },
    "id": "ee9912f3",
    "outputId": "d7e513df-178a-4786-daa6-e81138ec18e9",
    "trusted": true
   },
   "outputs": [
    {
     "name": "stdout",
     "output_type": "stream",
     "text": [
      "Generated text:\n",
      "the adventure of the blue carbuncle which hung fiercely in in the dwindling , which grow through the stairs which he terrified us in a wooden foolscap curling thrust upon the railings and waistcoat the\n"
     ]
    }
   ],
   "source": [
    "def generate_text(model, start_seq, length=10):\n",
    "    model.eval()\n",
    "    seq = start_seq.copy()\n",
    "    generated = seq.copy()\n",
    "    hidden = None\n",
    "    for _ in range(length):\n",
    "        x = sequenceToTensor(seq).unsqueeze(0).to(device)\n",
    "        with torch.no_grad():\n",
    "            out, hidden = model(x, hidden)\n",
    "            pred_idx = out.argmax(dim=1).item()\n",
    "        pred_word = idxtoword[pred_idx]\n",
    "        generated.append(pred_word)\n",
    "        seq = seq[1:] + [pred_word]\n",
    "    return ' '.join(generated)\n",
    "\n",
    "start_seq = tokens[:seq_length]\n",
    "print(\"Generated text:\")\n",
    "print(generate_text(model, start_seq, length=30))"
   ]
  },
  {
   "cell_type": "code",
   "execution_count": 17,
   "id": "c9ac070d",
   "metadata": {
    "execution": {
     "iopub.execute_input": "2025-06-23T12:42:25.393938Z",
     "iopub.status.busy": "2025-06-23T12:42:25.393238Z",
     "iopub.status.idle": "2025-06-23T12:42:25.415253Z",
     "shell.execute_reply": "2025-06-23T12:42:25.414643Z",
     "shell.execute_reply.started": "2025-06-23T12:42:25.393918Z"
    },
    "id": "c9ac070d",
    "trusted": true
   },
   "outputs": [],
   "source": [
    "torch.save(model.state_dict(), 'lstm_sherlock_model.pth')"
   ]
  },
  {
   "cell_type": "code",
   "execution_count": 15,
   "id": "1877bbb7",
   "metadata": {
    "id": "1877bbb7"
   },
   "outputs": [],
   "source": []
  }
 ],
 "metadata": {
  "accelerator": "GPU",
  "colab": {
   "gpuType": "T4",
   "provenance": []
  },
  "kaggle": {
   "accelerator": "gpu",
   "dataSources": [
    {
     "databundleVersionId": 8412,
     "datasetId": 5637,
     "isSourceIdPinned": false,
     "sourceId": 8412,
     "sourceType": "datasetVersion"
    }
   ],
   "dockerImageVersionId": 31041,
   "isGpuEnabled": true,
   "isInternetEnabled": true,
   "language": "python",
   "sourceType": "notebook"
  },
  "kernelspec": {
   "display_name": "dev",
   "language": "python",
   "name": "python3"
  },
  "language_info": {
   "codemirror_mode": {
    "name": "ipython",
    "version": 3
   },
   "file_extension": ".py",
   "mimetype": "text/x-python",
   "name": "python",
   "nbconvert_exporter": "python",
   "pygments_lexer": "ipython3",
   "version": "3.12.9"
  }
 },
 "nbformat": 4,
 "nbformat_minor": 5
}
